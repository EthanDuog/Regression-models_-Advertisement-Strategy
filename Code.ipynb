{
  "cells": [
    {
      "cell_type": "code",
      "execution_count": 67,
      "id": "3df74f27",
      "metadata": {
        "id": "3df74f27"
      },
      "outputs": [],
      "source": [
        "import pandas as pd\n",
        "import numpy as np\n",
        "\n",
        "train_data = pd.read_csv(\"marketing_train.csv\")\n",
        "test_data = pd.read_csv(\"marketing_test.csv\")"
      ]
    },
    {
      "cell_type": "code",
      "execution_count": 68,
      "id": "e83a10fd",
      "metadata": {
        "colab": {
          "base_uri": "https://localhost:8080/",
          "height": 423
        },
        "id": "e83a10fd",
        "outputId": "236f080f-9bd2-4b05-f7e1-a8cb06c4a919"
      },
      "outputs": [
        {
          "output_type": "execute_result",
          "data": {
            "text/plain": [
              "     TV_ads  Radio_ads  WWW_ads  revenue\n",
              "0     47.86      52.46   165.98    39.26\n",
              "1     55.20      77.40   171.70    38.90\n",
              "2     52.01      68.01   294.83    49.51\n",
              "3     61.96      86.86   183.18    40.56\n",
              "4     40.91      30.41   149.53    40.21\n",
              "..      ...        ...      ...      ...\n",
              "145   20.47      15.07   342.31    45.17\n",
              "146   28.83      54.13   267.99    42.73\n",
              "147   32.03      27.73   103.89    39.83\n",
              "148   14.53      19.03   221.99    39.43\n",
              "149   16.15      24.65   288.55    44.55\n",
              "\n",
              "[150 rows x 4 columns]"
            ],
            "text/html": [
              "\n",
              "  <div id=\"df-6ca84c93-05f4-491f-8461-3643dc7fd237\">\n",
              "    <div class=\"colab-df-container\">\n",
              "      <div>\n",
              "<style scoped>\n",
              "    .dataframe tbody tr th:only-of-type {\n",
              "        vertical-align: middle;\n",
              "    }\n",
              "\n",
              "    .dataframe tbody tr th {\n",
              "        vertical-align: top;\n",
              "    }\n",
              "\n",
              "    .dataframe thead th {\n",
              "        text-align: right;\n",
              "    }\n",
              "</style>\n",
              "<table border=\"1\" class=\"dataframe\">\n",
              "  <thead>\n",
              "    <tr style=\"text-align: right;\">\n",
              "      <th></th>\n",
              "      <th>TV_ads</th>\n",
              "      <th>Radio_ads</th>\n",
              "      <th>WWW_ads</th>\n",
              "      <th>revenue</th>\n",
              "    </tr>\n",
              "  </thead>\n",
              "  <tbody>\n",
              "    <tr>\n",
              "      <th>0</th>\n",
              "      <td>47.86</td>\n",
              "      <td>52.46</td>\n",
              "      <td>165.98</td>\n",
              "      <td>39.26</td>\n",
              "    </tr>\n",
              "    <tr>\n",
              "      <th>1</th>\n",
              "      <td>55.20</td>\n",
              "      <td>77.40</td>\n",
              "      <td>171.70</td>\n",
              "      <td>38.90</td>\n",
              "    </tr>\n",
              "    <tr>\n",
              "      <th>2</th>\n",
              "      <td>52.01</td>\n",
              "      <td>68.01</td>\n",
              "      <td>294.83</td>\n",
              "      <td>49.51</td>\n",
              "    </tr>\n",
              "    <tr>\n",
              "      <th>3</th>\n",
              "      <td>61.96</td>\n",
              "      <td>86.86</td>\n",
              "      <td>183.18</td>\n",
              "      <td>40.56</td>\n",
              "    </tr>\n",
              "    <tr>\n",
              "      <th>4</th>\n",
              "      <td>40.91</td>\n",
              "      <td>30.41</td>\n",
              "      <td>149.53</td>\n",
              "      <td>40.21</td>\n",
              "    </tr>\n",
              "    <tr>\n",
              "      <th>...</th>\n",
              "      <td>...</td>\n",
              "      <td>...</td>\n",
              "      <td>...</td>\n",
              "      <td>...</td>\n",
              "    </tr>\n",
              "    <tr>\n",
              "      <th>145</th>\n",
              "      <td>20.47</td>\n",
              "      <td>15.07</td>\n",
              "      <td>342.31</td>\n",
              "      <td>45.17</td>\n",
              "    </tr>\n",
              "    <tr>\n",
              "      <th>146</th>\n",
              "      <td>28.83</td>\n",
              "      <td>54.13</td>\n",
              "      <td>267.99</td>\n",
              "      <td>42.73</td>\n",
              "    </tr>\n",
              "    <tr>\n",
              "      <th>147</th>\n",
              "      <td>32.03</td>\n",
              "      <td>27.73</td>\n",
              "      <td>103.89</td>\n",
              "      <td>39.83</td>\n",
              "    </tr>\n",
              "    <tr>\n",
              "      <th>148</th>\n",
              "      <td>14.53</td>\n",
              "      <td>19.03</td>\n",
              "      <td>221.99</td>\n",
              "      <td>39.43</td>\n",
              "    </tr>\n",
              "    <tr>\n",
              "      <th>149</th>\n",
              "      <td>16.15</td>\n",
              "      <td>24.65</td>\n",
              "      <td>288.55</td>\n",
              "      <td>44.55</td>\n",
              "    </tr>\n",
              "  </tbody>\n",
              "</table>\n",
              "<p>150 rows × 4 columns</p>\n",
              "</div>\n",
              "      <button class=\"colab-df-convert\" onclick=\"convertToInteractive('df-6ca84c93-05f4-491f-8461-3643dc7fd237')\"\n",
              "              title=\"Convert this dataframe to an interactive table.\"\n",
              "              style=\"display:none;\">\n",
              "        \n",
              "  <svg xmlns=\"http://www.w3.org/2000/svg\" height=\"24px\"viewBox=\"0 0 24 24\"\n",
              "       width=\"24px\">\n",
              "    <path d=\"M0 0h24v24H0V0z\" fill=\"none\"/>\n",
              "    <path d=\"M18.56 5.44l.94 2.06.94-2.06 2.06-.94-2.06-.94-.94-2.06-.94 2.06-2.06.94zm-11 1L8.5 8.5l.94-2.06 2.06-.94-2.06-.94L8.5 2.5l-.94 2.06-2.06.94zm10 10l.94 2.06.94-2.06 2.06-.94-2.06-.94-.94-2.06-.94 2.06-2.06.94z\"/><path d=\"M17.41 7.96l-1.37-1.37c-.4-.4-.92-.59-1.43-.59-.52 0-1.04.2-1.43.59L10.3 9.45l-7.72 7.72c-.78.78-.78 2.05 0 2.83L4 21.41c.39.39.9.59 1.41.59.51 0 1.02-.2 1.41-.59l7.78-7.78 2.81-2.81c.8-.78.8-2.07 0-2.86zM5.41 20L4 18.59l7.72-7.72 1.47 1.35L5.41 20z\"/>\n",
              "  </svg>\n",
              "      </button>\n",
              "      \n",
              "  <style>\n",
              "    .colab-df-container {\n",
              "      display:flex;\n",
              "      flex-wrap:wrap;\n",
              "      gap: 12px;\n",
              "    }\n",
              "\n",
              "    .colab-df-convert {\n",
              "      background-color: #E8F0FE;\n",
              "      border: none;\n",
              "      border-radius: 50%;\n",
              "      cursor: pointer;\n",
              "      display: none;\n",
              "      fill: #1967D2;\n",
              "      height: 32px;\n",
              "      padding: 0 0 0 0;\n",
              "      width: 32px;\n",
              "    }\n",
              "\n",
              "    .colab-df-convert:hover {\n",
              "      background-color: #E2EBFA;\n",
              "      box-shadow: 0px 1px 2px rgba(60, 64, 67, 0.3), 0px 1px 3px 1px rgba(60, 64, 67, 0.15);\n",
              "      fill: #174EA6;\n",
              "    }\n",
              "\n",
              "    [theme=dark] .colab-df-convert {\n",
              "      background-color: #3B4455;\n",
              "      fill: #D2E3FC;\n",
              "    }\n",
              "\n",
              "    [theme=dark] .colab-df-convert:hover {\n",
              "      background-color: #434B5C;\n",
              "      box-shadow: 0px 1px 3px 1px rgba(0, 0, 0, 0.15);\n",
              "      filter: drop-shadow(0px 1px 2px rgba(0, 0, 0, 0.3));\n",
              "      fill: #FFFFFF;\n",
              "    }\n",
              "  </style>\n",
              "\n",
              "      <script>\n",
              "        const buttonEl =\n",
              "          document.querySelector('#df-6ca84c93-05f4-491f-8461-3643dc7fd237 button.colab-df-convert');\n",
              "        buttonEl.style.display =\n",
              "          google.colab.kernel.accessAllowed ? 'block' : 'none';\n",
              "\n",
              "        async function convertToInteractive(key) {\n",
              "          const element = document.querySelector('#df-6ca84c93-05f4-491f-8461-3643dc7fd237');\n",
              "          const dataTable =\n",
              "            await google.colab.kernel.invokeFunction('convertToInteractive',\n",
              "                                                     [key], {});\n",
              "          if (!dataTable) return;\n",
              "\n",
              "          const docLinkHtml = 'Like what you see? Visit the ' +\n",
              "            '<a target=\"_blank\" href=https://colab.research.google.com/notebooks/data_table.ipynb>data table notebook</a>'\n",
              "            + ' to learn more about interactive tables.';\n",
              "          element.innerHTML = '';\n",
              "          dataTable['output_type'] = 'display_data';\n",
              "          await google.colab.output.renderOutput(dataTable, element);\n",
              "          const docLink = document.createElement('div');\n",
              "          docLink.innerHTML = docLinkHtml;\n",
              "          element.appendChild(docLink);\n",
              "        }\n",
              "      </script>\n",
              "    </div>\n",
              "  </div>\n",
              "  "
            ]
          },
          "metadata": {},
          "execution_count": 68
        }
      ],
      "source": [
        "train_data"
      ]
    },
    {
      "cell_type": "code",
      "source": [
        "test_data"
      ],
      "metadata": {
        "colab": {
          "base_uri": "https://localhost:8080/",
          "height": 206
        },
        "id": "bAn3gcXLn0Ys",
        "outputId": "e56009e6-a3df-410b-8f12-f7d189df60f9"
      },
      "id": "bAn3gcXLn0Ys",
      "execution_count": 69,
      "outputs": [
        {
          "output_type": "execute_result",
          "data": {
            "text/plain": [
              "   TV_ads  Radio_ads  WWW_ads  revenue\n",
              "0   39.42      63.92   346.06    50.02\n",
              "1   18.74      35.94   318.32    46.44\n",
              "2   22.71      45.61   185.03    39.61\n",
              "3   13.88      19.78   198.54    42.58\n",
              "4   17.18      17.38   297.14    43.38"
            ],
            "text/html": [
              "\n",
              "  <div id=\"df-ac6af13b-a1f8-45cc-99f9-1c14e7f58a51\">\n",
              "    <div class=\"colab-df-container\">\n",
              "      <div>\n",
              "<style scoped>\n",
              "    .dataframe tbody tr th:only-of-type {\n",
              "        vertical-align: middle;\n",
              "    }\n",
              "\n",
              "    .dataframe tbody tr th {\n",
              "        vertical-align: top;\n",
              "    }\n",
              "\n",
              "    .dataframe thead th {\n",
              "        text-align: right;\n",
              "    }\n",
              "</style>\n",
              "<table border=\"1\" class=\"dataframe\">\n",
              "  <thead>\n",
              "    <tr style=\"text-align: right;\">\n",
              "      <th></th>\n",
              "      <th>TV_ads</th>\n",
              "      <th>Radio_ads</th>\n",
              "      <th>WWW_ads</th>\n",
              "      <th>revenue</th>\n",
              "    </tr>\n",
              "  </thead>\n",
              "  <tbody>\n",
              "    <tr>\n",
              "      <th>0</th>\n",
              "      <td>39.42</td>\n",
              "      <td>63.92</td>\n",
              "      <td>346.06</td>\n",
              "      <td>50.02</td>\n",
              "    </tr>\n",
              "    <tr>\n",
              "      <th>1</th>\n",
              "      <td>18.74</td>\n",
              "      <td>35.94</td>\n",
              "      <td>318.32</td>\n",
              "      <td>46.44</td>\n",
              "    </tr>\n",
              "    <tr>\n",
              "      <th>2</th>\n",
              "      <td>22.71</td>\n",
              "      <td>45.61</td>\n",
              "      <td>185.03</td>\n",
              "      <td>39.61</td>\n",
              "    </tr>\n",
              "    <tr>\n",
              "      <th>3</th>\n",
              "      <td>13.88</td>\n",
              "      <td>19.78</td>\n",
              "      <td>198.54</td>\n",
              "      <td>42.58</td>\n",
              "    </tr>\n",
              "    <tr>\n",
              "      <th>4</th>\n",
              "      <td>17.18</td>\n",
              "      <td>17.38</td>\n",
              "      <td>297.14</td>\n",
              "      <td>43.38</td>\n",
              "    </tr>\n",
              "  </tbody>\n",
              "</table>\n",
              "</div>\n",
              "      <button class=\"colab-df-convert\" onclick=\"convertToInteractive('df-ac6af13b-a1f8-45cc-99f9-1c14e7f58a51')\"\n",
              "              title=\"Convert this dataframe to an interactive table.\"\n",
              "              style=\"display:none;\">\n",
              "        \n",
              "  <svg xmlns=\"http://www.w3.org/2000/svg\" height=\"24px\"viewBox=\"0 0 24 24\"\n",
              "       width=\"24px\">\n",
              "    <path d=\"M0 0h24v24H0V0z\" fill=\"none\"/>\n",
              "    <path d=\"M18.56 5.44l.94 2.06.94-2.06 2.06-.94-2.06-.94-.94-2.06-.94 2.06-2.06.94zm-11 1L8.5 8.5l.94-2.06 2.06-.94-2.06-.94L8.5 2.5l-.94 2.06-2.06.94zm10 10l.94 2.06.94-2.06 2.06-.94-2.06-.94-.94-2.06-.94 2.06-2.06.94z\"/><path d=\"M17.41 7.96l-1.37-1.37c-.4-.4-.92-.59-1.43-.59-.52 0-1.04.2-1.43.59L10.3 9.45l-7.72 7.72c-.78.78-.78 2.05 0 2.83L4 21.41c.39.39.9.59 1.41.59.51 0 1.02-.2 1.41-.59l7.78-7.78 2.81-2.81c.8-.78.8-2.07 0-2.86zM5.41 20L4 18.59l7.72-7.72 1.47 1.35L5.41 20z\"/>\n",
              "  </svg>\n",
              "      </button>\n",
              "      \n",
              "  <style>\n",
              "    .colab-df-container {\n",
              "      display:flex;\n",
              "      flex-wrap:wrap;\n",
              "      gap: 12px;\n",
              "    }\n",
              "\n",
              "    .colab-df-convert {\n",
              "      background-color: #E8F0FE;\n",
              "      border: none;\n",
              "      border-radius: 50%;\n",
              "      cursor: pointer;\n",
              "      display: none;\n",
              "      fill: #1967D2;\n",
              "      height: 32px;\n",
              "      padding: 0 0 0 0;\n",
              "      width: 32px;\n",
              "    }\n",
              "\n",
              "    .colab-df-convert:hover {\n",
              "      background-color: #E2EBFA;\n",
              "      box-shadow: 0px 1px 2px rgba(60, 64, 67, 0.3), 0px 1px 3px 1px rgba(60, 64, 67, 0.15);\n",
              "      fill: #174EA6;\n",
              "    }\n",
              "\n",
              "    [theme=dark] .colab-df-convert {\n",
              "      background-color: #3B4455;\n",
              "      fill: #D2E3FC;\n",
              "    }\n",
              "\n",
              "    [theme=dark] .colab-df-convert:hover {\n",
              "      background-color: #434B5C;\n",
              "      box-shadow: 0px 1px 3px 1px rgba(0, 0, 0, 0.15);\n",
              "      filter: drop-shadow(0px 1px 2px rgba(0, 0, 0, 0.3));\n",
              "      fill: #FFFFFF;\n",
              "    }\n",
              "  </style>\n",
              "\n",
              "      <script>\n",
              "        const buttonEl =\n",
              "          document.querySelector('#df-ac6af13b-a1f8-45cc-99f9-1c14e7f58a51 button.colab-df-convert');\n",
              "        buttonEl.style.display =\n",
              "          google.colab.kernel.accessAllowed ? 'block' : 'none';\n",
              "\n",
              "        async function convertToInteractive(key) {\n",
              "          const element = document.querySelector('#df-ac6af13b-a1f8-45cc-99f9-1c14e7f58a51');\n",
              "          const dataTable =\n",
              "            await google.colab.kernel.invokeFunction('convertToInteractive',\n",
              "                                                     [key], {});\n",
              "          if (!dataTable) return;\n",
              "\n",
              "          const docLinkHtml = 'Like what you see? Visit the ' +\n",
              "            '<a target=\"_blank\" href=https://colab.research.google.com/notebooks/data_table.ipynb>data table notebook</a>'\n",
              "            + ' to learn more about interactive tables.';\n",
              "          element.innerHTML = '';\n",
              "          dataTable['output_type'] = 'display_data';\n",
              "          await google.colab.output.renderOutput(dataTable, element);\n",
              "          const docLink = document.createElement('div');\n",
              "          docLink.innerHTML = docLinkHtml;\n",
              "          element.appendChild(docLink);\n",
              "        }\n",
              "      </script>\n",
              "    </div>\n",
              "  </div>\n",
              "  "
            ]
          },
          "metadata": {},
          "execution_count": 69
        }
      ]
    },
    {
      "cell_type": "code",
      "execution_count": 70,
      "id": "cc31811f",
      "metadata": {
        "colab": {
          "base_uri": "https://localhost:8080/",
          "height": 298
        },
        "id": "cc31811f",
        "outputId": "f7c2f421-b440-4798-91ce-a1a1a6e6622b"
      },
      "outputs": [
        {
          "output_type": "execute_result",
          "data": {
            "text/plain": [
              "<matplotlib.axes._subplots.AxesSubplot at 0x7f2baab3d250>"
            ]
          },
          "metadata": {},
          "execution_count": 70
        },
        {
          "output_type": "display_data",
          "data": {
            "text/plain": [
              "<Figure size 432x288 with 1 Axes>"
            ],
            "image/png": "[encoded data removed]"
          },
          "metadata": {
            "needs_background": "light"
          }
        }
      ],
      "source": [
        "# Plots to understand the data\n",
        "train_data.plot.scatter(x='TV_ads', y='revenue')"
      ]
    },
    {
      "cell_type": "code",
      "execution_count": 71,
      "id": "3b902b22",
      "metadata": {
        "colab": {
          "base_uri": "https://localhost:8080/",
          "height": 298
        },
        "id": "3b902b22",
        "outputId": "8f010f01-4a04-41a4-d9a2-e689cd090ffe"
      },
      "outputs": [
        {
          "output_type": "execute_result",
          "data": {
            "text/plain": [
              "<matplotlib.axes._subplots.AxesSubplot at 0x7f2baaaa45d0>"
            ]
          },
          "metadata": {},
          "execution_count": 71
        },
        {
          "output_type": "display_data",
          "data": {
            "text/plain": [
              "<Figure size 432x288 with 1 Axes>"
            ],
            "image/png": "[encoded data removed]"
          },
          "metadata": {
            "needs_background": "light"
          }
        }
      ],
      "source": [
        "train_data.plot.scatter(x='Radio_ads', y='revenue')"
      ]
    },
    {
      "cell_type": "code",
      "execution_count": 72,
      "id": "03c905dc",
      "metadata": {
        "colab": {
          "base_uri": "https://localhost:8080/",
          "height": 298
        },
        "id": "03c905dc",
        "outputId": "2e65c6de-dae9-4565-f078-bb2925bbb6b4"
      },
      "outputs": [
        {
          "output_type": "execute_result",
          "data": {
            "text/plain": [
              "<matplotlib.axes._subplots.AxesSubplot at 0x7f2baaa7b850>"
            ]
          },
          "metadata": {},
          "execution_count": 72
        },
        {
          "output_type": "display_data",
          "data": {
            "text/plain": [
              "<Figure size 432x288 with 1 Axes>"
            ],
            "image/png": "[encoded data removed]"
          },
          "metadata": {
            "needs_background": "light"
          }
        }
      ],
      "source": [
        "train_data.plot.scatter(x='WWW_ads', y='revenue')"
      ]
    },
    {
      "cell_type": "markdown",
      "id": "544a07da",
      "metadata": {
        "id": "544a07da"
      },
      "source": [
        "### Fitting linear regression models"
      ]
    },
    {
      "cell_type": "code",
      "execution_count": 73,
      "id": "3c874a50",
      "metadata": {
        "colab": {
          "base_uri": "https://localhost:8080/"
        },
        "id": "3c874a50",
        "outputId": "2f08c1e2-4181-4568-b8a0-b82710710013"
      },
      "outputs": [
        {
          "output_type": "execute_result",
          "data": {
            "text/plain": [
              "LinearRegression()"
            ]
          },
          "metadata": {},
          "execution_count": 73
        }
      ],
      "source": [
        "from sklearn.linear_model import LinearRegression\n",
        "\n",
        "# Simple linear regression model with only one attribute WWW_ads\n",
        "model1 = LinearRegression()\n",
        "model1.fit(X=train_data[['WWW_ads']], y=train_data['revenue'])"
      ]
    },
    {
      "cell_type": "code",
      "execution_count": 74,
      "id": "586e69dd",
      "metadata": {
        "colab": {
          "base_uri": "https://localhost:8080/"
        },
        "id": "586e69dd",
        "outputId": "f35dfff9-d47b-4240-c769-5cc4457c2d5d"
      },
      "outputs": [
        {
          "output_type": "stream",
          "name": "stdout",
          "text": [
            "slope of model 1: [0.05232492]\n",
            "intercept of model 1: 31.92511466618184\n"
          ]
        }
      ],
      "source": [
        "# plot the line to see how it fits the data\n",
        "# use matplotlib library for more complex plots (colab has matplotlib, for other enviroment, you should install it with pip package manager like previous libraries)\n",
        "import matplotlib.pyplot as plt\n",
        "\n",
        "# get model parameters (fitted line slope and intercept)\n",
        "m = model1.coef_\n",
        "b = model1.intercept_\n",
        "\n",
        "print('slope of model 1:', m)\n",
        "print('intercept of model 1:', b)\n"
      ]
    },
    {
      "cell_type": "code",
      "source": [
        "plt.scatter(train_data['WWW_ads'], train_data['revenue'])\n",
        "plt.plot(train_data['WWW_ads'], m*train_data['WWW_ads'] + b, c='red')"
      ],
      "metadata": {
        "colab": {
          "base_uri": "https://localhost:8080/",
          "height": 283
        },
        "id": "4GG8L5gxo2Yq",
        "outputId": "4b1354fb-2449-4155-c925-316ca998c49a"
      },
      "id": "4GG8L5gxo2Yq",
      "execution_count": 75,
      "outputs": [
        {
          "output_type": "execute_result",
          "data": {
            "text/plain": [
              "[<matplotlib.lines.Line2D at 0x7f2baaa18c90>]"
            ]
          },
          "metadata": {},
          "execution_count": 75
        },
        {
          "output_type": "display_data",
          "data": {
            "text/plain": [
              "<Figure size 432x288 with 1 Axes>"
            ],
            "image/png": "[encoded data removed]"
          },
          "metadata": {
            "needs_background": "light"
          }
        }
      ]
    },
    {
      "cell_type": "markdown",
      "source": [
        "**Predict Test Data and Evaluate the Model**"
      ],
      "metadata": {
        "id": "5YIbkuF_pIXg"
      },
      "id": "5YIbkuF_pIXg"
    },
    {
      "cell_type": "code",
      "source": [
        "predicted_val1 = model1.predict(test_data[['WWW_ads']])\n",
        "print('predicted values using model 1:', predicted_val1)\n",
        "\n",
        "# get real values in the form of a numpy array\n",
        "real_values = test_data['revenue'].to_numpy()\n",
        "print('real values:', real_values)\n",
        "\n",
        "diff1_array = predicted_val1 - real_values\n",
        "# convert the difference to absolute values\n",
        "diff1_array = np.absolute(diff1_array)\n",
        "diff1_sum = np.sum(diff1_array)\n",
        "\n",
        "print('the sum of the differences between real and predicted values for model 1 is:', diff1_sum)"
      ],
      "metadata": {
        "colab": {
          "base_uri": "https://localhost:8080/"
        },
        "id": "r7CAJFl3pN3E",
        "outputId": "ff9219d3-c54b-4c71-a0ec-175d05f24c8e"
      },
      "id": "r7CAJFl3pN3E",
      "execution_count": 76,
      "outputs": [
        {
          "output_type": "stream",
          "name": "stdout",
          "text": [
            "predicted values using model 1: [50.032675   48.58118184 41.60679382 42.31370343 47.47294012]\n",
            "real values: [50.02 46.44 39.61 42.58 43.38]\n",
            "the sum of the differences between real and predicted values for model 1 is: 8.509887351431722\n"
          ]
        }
      ]
    },
    {
      "cell_type": "code",
      "execution_count": 77,
      "id": "1af30131",
      "metadata": {
        "colab": {
          "base_uri": "https://localhost:8080/"
        },
        "id": "1af30131",
        "outputId": "323688d8-01cf-4139-8b66-7ff951cca303"
      },
      "outputs": [
        {
          "output_type": "execute_result",
          "data": {
            "text/plain": [
              "LinearRegression()"
            ]
          },
          "metadata": {},
          "execution_count": 77
        }
      ],
      "source": [
        "# now we build a model using two attributes\n",
        "model2 = LinearRegression()\n",
        "model2.fit(X=train_data[['WWW_ads', 'TV_ads']], y=train_data['revenue'])"
      ]
    },
    {
      "cell_type": "code",
      "source": [
        "# note that we have 2 slopes now since we have two attributes \n",
        "print('slopes of model 2:', model2.coef_)\n",
        "print('intercept of model 2:', model2.intercept_)"
      ],
      "metadata": {
        "colab": {
          "base_uri": "https://localhost:8080/"
        },
        "id": "o_3fqRXhqENF",
        "outputId": "f735aafd-e53b-435b-a8d6-1e34a157d3cd"
      },
      "id": "o_3fqRXhqENF",
      "execution_count": 80,
      "outputs": [
        {
          "output_type": "stream",
          "name": "stdout",
          "text": [
            "slopes of model 2: [0.04712734 0.12094459]\n",
            "intercept of model 2: 29.01296822802504\n"
          ]
        }
      ]
    },
    {
      "cell_type": "code",
      "source": [
        "predicted_val2 = model2.predict(test_data[['WWW_ads', 'TV_ads']])\n",
        "print('predicted values using model 2:', predicted_val2)\n",
        "\n",
        "# note that real_values are the same and unchanged\n",
        "print('real values:', real_values)\n",
        "\n",
        "diff2_array = predicted_val2 - real_values\n",
        "# convert the difference to absolute values\n",
        "diff2_array = np.absolute(diff2_array)\n",
        "diff2_sum = np.sum(diff2_array)\n",
        "\n",
        "# note that the sum of the differences is less than model 1 (we get better performance)\n",
        "print('the sum of the differences between real and predicted values for model 2 is:', diff2_sum)"
      ],
      "metadata": {
        "colab": {
          "base_uri": "https://localhost:8080/"
        },
        "id": "Igv4A1ctq2Ty",
        "outputId": "cb0b3329-bcc6-4b3d-a057-f68bcee89028"
      },
      "id": "Igv4A1ctq2Ty",
      "execution_count": 81,
      "outputs": [
        {
          "output_type": "stream",
          "name": "stdout",
          "text": [
            "predicted values using model 2: [50.08949112 46.28104462 40.47959152 40.04834116 45.09421401]\n",
            "real values: [50.02 46.44 39.61 42.58 43.38]\n",
            "the sum of the differences between real and predicted values for model 2 is: 5.343910865450127\n"
          ]
        }
      ]
    },
    {
      "cell_type": "code",
      "execution_count": 82,
      "id": "d437c239",
      "metadata": {
        "colab": {
          "base_uri": "https://localhost:8080/"
        },
        "id": "d437c239",
        "outputId": "ad2af4f5-0def-4b70-ce11-15f35e49d475"
      },
      "outputs": [
        {
          "output_type": "execute_result",
          "data": {
            "text/plain": [
              "LinearRegression()"
            ]
          },
          "metadata": {},
          "execution_count": 82
        }
      ],
      "source": [
        "#now we build a model using three attributes\n",
        "model3 = LinearRegression()\n",
        "model3.fit(X=train_data[['WWW_ads', 'TV_ads', 'Radio_ads']], y=train_data['revenue'])"
      ]
    },
    {
      "cell_type": "code",
      "source": [
        "# note that we have 3 slopes now since we have three attributes \n",
        "print('slopes of model 3:', model3.coef_)\n",
        "print('intercept of model 3:', model3.intercept_)"
      ],
      "metadata": {
        "colab": {
          "base_uri": "https://localhost:8080/"
        },
        "id": "6uWkr7zUqtAJ",
        "outputId": "d826c9e4-17b6-4771-8600-fa04a8b94355"
      },
      "id": "6uWkr7zUqtAJ",
      "execution_count": 83,
      "outputs": [
        {
          "output_type": "stream",
          "name": "stdout",
          "text": [
            "slopes of model 3: [ 0.05015109  0.14005184 -0.04523732]\n",
            "intercept of model 3: 29.429437443448688\n"
          ]
        }
      ]
    },
    {
      "cell_type": "code",
      "source": [
        "predicted_val3 = model3.predict(test_data[['WWW_ads', 'TV_ads', 'Radio_ads']])\n",
        "print('predicted values using model 3:', predicted_val2)\n",
        "\n",
        "# note that real_values are the same and unchanged\n",
        "print('real values:', real_values)\n",
        "\n",
        "diff3_array = predicted_val3 - real_values\n",
        "# convert the difference to absolute values\n",
        "diff3_array = np.absolute(diff3_array)\n",
        "diff3_sum = np.sum(diff3_array)\n",
        "\n",
        "# note that the sum of the differences is worse than model 1 (we get lower performance by adding more attributes!)\n",
        "print('the sum of the differences between real and predicted values for model 3 is:', diff3_sum)"
      ],
      "metadata": {
        "colab": {
          "base_uri": "https://localhost:8080/"
        },
        "id": "wZC3UM-aqxOJ",
        "outputId": "665f2270-b45b-43de-a32f-0eef022577b1"
      },
      "id": "wZC3UM-aqxOJ",
      "execution_count": 84,
      "outputs": [
        {
          "output_type": "stream",
          "name": "stdout",
          "text": [
            "predicted values using model 3: [50.08949112 46.28104462 40.47959152 40.04834116 45.09421401]\n",
            "real values: [50.02 46.44 39.61 42.58 43.38]\n",
            "the sum of the differences between real and predicted values for model 3 is: 5.5855631866051425\n"
          ]
        }
      ]
    },
    {
      "cell_type": "code",
      "source": [],
      "metadata": {
        "id": "cTwljeQCrUN6"
      },
      "id": "cTwljeQCrUN6",
      "execution_count": null,
      "outputs": []
    }
  ],
  "metadata": {
    "kernelspec": {
      "display_name": "Python 3",
      "language": "python",
      "name": "python3"
    },
    "language_info": {
      "codemirror_mode": {
        "name": "ipython",
        "version": 3
      },
      "file_extension": ".py",
      "mimetype": "text/x-python",
      "name": "python",
      "nbconvert_exporter": "python",
      "pygments_lexer": "ipython3",
      "version": "3.7.7"
    },
    "colab": {
      "provenance": []
    }
  },
  "nbformat": 4,
  "nbformat_minor": 5
}
